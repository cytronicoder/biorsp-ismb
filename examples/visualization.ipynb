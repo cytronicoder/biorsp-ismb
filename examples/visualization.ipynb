{
 "cells": [
  {
   "cell_type": "markdown",
   "id": "6a50d9e8",
   "metadata": {},
   "source": [
    "# Multi-Feature RSP Visualization\n",
    "\n",
    "This script creates visualizations of RSP (Radar Scanning Plot) using KPMP data for multiple genes simultaneously. You can use this to check if the package is working correctly and to compare spatial expression patterns between different genes."
   ]
  },
  {
   "cell_type": "code",
   "execution_count": null,
   "id": "6f7499a2",
   "metadata": {},
   "outputs": [],
   "source": [
    "import matplotlib.pyplot as plt\n",
    "import matplotlib.gridspec as gridspec\n",
    "\n",
    "import numpy as np"
   ]
  },
  {
   "cell_type": "code",
   "execution_count": null,
   "id": "92a87514",
   "metadata": {},
   "outputs": [],
   "source": [
    "import spatialrsp as rsp"
   ]
  },
  {
   "cell_type": "code",
   "execution_count": null,
   "id": "bd13446f",
   "metadata": {},
   "outputs": [],
   "source": [
    "import logging\n",
    "\n",
    "logging.basicConfig(\n",
    "    level=logging.DEBUG, format=\"%(asctime)s %(name)s %(levelname)-8s %(message)s\"\n",
    ")"
   ]
  },
  {
   "cell_type": "code",
   "execution_count": null,
   "id": "63aaf07d",
   "metadata": {},
   "outputs": [],
   "source": [
    "plt.rcParams[\"figure.dpi\"] = 400\n",
    "plt.rcParams[\"font.size\"] = 14\n",
    "plt.rcParams[\"axes.grid\"] = True\n",
    "\n",
    "distinct_colors = [\n",
    "    \"#d62728\",\n",
    "    \"#2ca02c\",\n",
    "    \"#ff7f0e\",\n",
    "    \"#1f77b4\",\n",
    "    \"#9467bd\",\n",
    "    \"#8c564b\",\n",
    "    \"#e377c2\",\n",
    "    \"#bcbd22\",\n",
    "    \"#17becf\",\n",
    "]"
   ]
  },
  {
   "cell_type": "code",
   "execution_count": null,
   "id": "ef171a3b",
   "metadata": {},
   "outputs": [],
   "source": [
    "path = rsp.utils.download_kpmp(\n",
    "    variant=\"sn\",\n",
    "    # force=True, # Uncomment to force re-download; useful if you think the data was contaminated\n",
    ")\n",
    "print(\"Downloaded KPMP data to\", path)"
   ]
  },
  {
   "cell_type": "code",
   "execution_count": null,
   "id": "8dd5442d",
   "metadata": {},
   "outputs": [],
   "source": [
    "adata = rsp.io.load_data(path)"
   ]
  },
  {
   "cell_type": "code",
   "execution_count": null,
   "id": "b80e36fd",
   "metadata": {},
   "outputs": [],
   "source": [
    "preprocessor = rsp.Preprocessor()"
   ]
  },
  {
   "cell_type": "code",
   "execution_count": null,
   "id": "1e11a980",
   "metadata": {},
   "outputs": [],
   "source": [
    "tal_cells = adata[adata.obs[\"subclass.l1\"] == \"TAL\"].copy()\n",
    "logging.info(f\"TAL cells shape: {tal_cells.shape}\")"
   ]
  },
  {
   "cell_type": "code",
   "execution_count": null,
   "id": "89d61bd6",
   "metadata": {},
   "outputs": [],
   "source": [
    "ctal_cells = tal_cells[tal_cells.obs[\"subclass.l2\"] == \"C-TAL\"].copy()\n",
    "logging.info(f\"C-TAL cells shape: {ctal_cells.shape}\")"
   ]
  },
  {
   "cell_type": "code",
   "execution_count": null,
   "id": "2ece7a12",
   "metadata": {},
   "outputs": [],
   "source": [
    "genes = [\"UMOD\", \"PROM1\"]  # Select genes of interest\n",
    "threshold_percentile = 0.5  # Select top x% of expressing cells\n",
    "filtered_cells = tal_cells\n",
    "scanning_range = np.linspace(0, 2 * np.pi, 360)\n",
    "resolution = 100"
   ]
  },
  {
   "cell_type": "code",
   "execution_count": null,
   "id": "c5110d9c",
   "metadata": {},
   "outputs": [],
   "source": [
    "preprocessor.run(\n",
    "    filtered_cells,\n",
    "    qc=False,\n",
    "    normalize=False,\n",
    "    reduction=None,\n",
    "    polar=True,\n",
    ")"
   ]
  },
  {
   "cell_type": "code",
   "execution_count": null,
   "id": "4951b3de",
   "metadata": {},
   "outputs": [],
   "source": [
    "def match_gene_name(adata, gene):\n",
    "    if \"feature_name\" in adata.var.columns:\n",
    "        matched_genes = adata.var[\n",
    "            adata.var[\"feature_name\"].str.contains(gene, case=False)\n",
    "        ]\n",
    "        if not matched_genes.empty:\n",
    "            return matched_genes.index[0]\n",
    "    raise ValueError(f\"Gene '{gene}' not found in the dataset.\")"
   ]
  },
  {
   "cell_type": "code",
   "execution_count": null,
   "id": "d43e7066",
   "metadata": {},
   "outputs": [],
   "source": [
    "ensgenes = {}\n",
    "thresholds = {}\n",
    "expressions = {}\n",
    "\n",
    "for gene in genes:\n",
    "    try:\n",
    "        ensgenes[gene] = match_gene_name(filtered_cells, gene)\n",
    "        logging.info(f\"Matched {gene} to {ensgenes[gene]}\")\n",
    "    except ValueError as e:\n",
    "        logging.error(e)\n",
    "        continue\n",
    "\n",
    "    expression = filtered_cells[:, ensgenes[gene]].X.toarray().flatten()\n",
    "    expressions[gene] = expression\n",
    "\n",
    "    thresholds[gene] = rsp.utils.percentile_to_threshold(\n",
    "        expressions[gene], threshold_percentile\n",
    "    )\n",
    "    logging.info(\n",
    "        f\"Threshold for {gene} at {threshold_percentile * 100}%: {thresholds[gene]}\"\n",
    "    )"
   ]
  },
  {
   "cell_type": "code",
   "execution_count": null,
   "id": "3b0405d8",
   "metadata": {},
   "outputs": [],
   "source": [
    "print(\"=== Expression Data Storage Summary ===\")\n",
    "print(f\"Stored expression data for {len(expressions)} genes:\")\n",
    "for gene in expressions:\n",
    "    expr_array = expressions[gene]\n",
    "    non_zero_cells = np.sum(expr_array > 0)\n",
    "    mean_expr = np.mean(expr_array[expr_array > 0]) if non_zero_cells > 0 else 0\n",
    "    max_expr = np.max(expr_array)\n",
    "\n",
    "    print(f\"{gene}:\")\n",
    "    print(f\"  - Array shape: {expr_array.shape}\")\n",
    "    print(\n",
    "        f\"  - Non-zero cells: {non_zero_cells}/{len(expr_array)} ({non_zero_cells/len(expr_array)*100:.1f}%)\"\n",
    "    )\n",
    "    print(f\"  - Mean expression (non-zero): {mean_expr:.3f}\")\n",
    "    print(f\"  - Max expression: {max_expr:.3f}\")\n",
    "    print()"
   ]
  },
  {
   "cell_type": "code",
   "execution_count": null,
   "id": "167d7b25",
   "metadata": {},
   "outputs": [],
   "source": [
    "fg_masks = {}\n",
    "fg_angles_list = []"
   ]
  },
  {
   "cell_type": "code",
   "execution_count": null,
   "id": "1ca80864",
   "metadata": {},
   "outputs": [],
   "source": [
    "bg_angles = rsp.utils.get_polar_angles(\n",
    "    adata=filtered_cells,\n",
    "    mask=None,  # Background = all cells\n",
    "    polar_coord=\"X_polar\",\n",
    ")"
   ]
  },
  {
   "cell_type": "code",
   "execution_count": null,
   "id": "d23d49dd",
   "metadata": {},
   "outputs": [],
   "source": [
    "for gene in genes:\n",
    "    ensgene = ensgenes[gene]\n",
    "    gene_threshold = thresholds[gene]\n",
    "\n",
    "    fg_mask = rsp.utils.extract_foreground_mask(\n",
    "        adata=filtered_cells,\n",
    "        feature=ensgene,\n",
    "        threshold=gene_threshold,\n",
    "    )\n",
    "    fg_mask = fg_mask.astype(bool)\n",
    "\n",
    "    # check if mask is a boolean array\n",
    "    if not np.issubdtype(fg_mask.dtype, np.bool_):\n",
    "        raise ValueError(f\"Foreground mask for {gene} is not a boolean array.\")\n",
    "    else:\n",
    "        logging.info(f\"Foreground mask for {gene} is a boolean array.\")\n",
    "        logging.info(\n",
    "            f\"Selected {np.sum(fg_mask)} out of {len(fg_mask)} cells for {gene} \"\n",
    "            f\"({np.sum(fg_mask)/len(fg_mask)*100:.1f}%)\"\n",
    "        )\n",
    "\n",
    "    fg_masks[gene] = fg_mask\n",
    "\n",
    "    fg_angles = rsp.utils.get_polar_angles(\n",
    "        adata=filtered_cells,\n",
    "        mask=fg_mask,\n",
    "        polar_coord=\"X_polar\",\n",
    "    )\n",
    "    fg_angles_list.append(fg_angles)"
   ]
  },
  {
   "cell_type": "code",
   "execution_count": null,
   "id": "299bdf67",
   "metadata": {},
   "outputs": [],
   "source": [
    "fg_curves, exp_curves, bg_curve = rsp.compute_rsp(\n",
    "    theta_fgs=fg_angles_list,\n",
    "    theta_bg=bg_angles,\n",
    "    scanning_window=np.pi,\n",
    "    scanning_range=scanning_range,\n",
    "    resolution=resolution,\n",
    "    mode=\"absolute\",\n",
    ")"
   ]
  },
  {
   "cell_type": "code",
   "execution_count": null,
   "id": "4985adf6",
   "metadata": {},
   "outputs": [],
   "source": [
    "# Display threshold summary\n",
    "print(\"=== Threshold Summary ===\")\n",
    "print(\n",
    "    f\"Threshold percentile: {threshold_percentile} (selecting top {(1-threshold_percentile)*100:.0f}% of cells)\"\n",
    ")\n",
    "print()\n",
    "for gene in genes:\n",
    "    threshold_val = thresholds[gene]\n",
    "    fg_mask = fg_masks[gene]\n",
    "    selected_cells = np.sum(fg_mask)\n",
    "    \n",
    "    # Use stored expression data instead of re-extracting\n",
    "    is_expressed = expressions[gene] > 0\n",
    "    total_cells = np.sum(is_expressed)\n",
    "    selected_pct = selected_cells / total_cells * 100\n",
    "\n",
    "    print(f\"{gene}:\")\n",
    "    print(f\"  - Actual threshold: {threshold_val:.3f}\")\n",
    "    print(f\"  - Selected cells: {selected_cells}/{total_cells} ({selected_pct:.1f}%)\")\n",
    "    print()"
   ]
  },
  {
   "cell_type": "code",
   "execution_count": null,
   "id": "4a90b98b",
   "metadata": {},
   "outputs": [],
   "source": [
    "fig = plt.figure(figsize=(12, 6))\n",
    "gs = gridspec.GridSpec(1, 2, figure=fig, width_ratios=[10, 7])\n",
    "ax1 = fig.add_subplot(gs[0])\n",
    "ax2 = fig.add_subplot(gs[1], projection=\"polar\")\n",
    "\n",
    "colors = distinct_colors[: len(genes)]\n",
    "\n",
    "umap_coords = filtered_cells.obsm[\"X_umap\"]\n",
    "ax1.scatter(\n",
    "    umap_coords[:, 0], umap_coords[:, 1], c=\"gray\", s=1, alpha=0.3, label=\"Background\"\n",
    ")\n",
    "\n",
    "for i, gene in enumerate(genes):\n",
    "    fg_mask = fg_masks[gene]\n",
    "    threshold_val = thresholds[gene]\n",
    "    selected_pct = np.sum(fg_mask) / len(fg_mask) * 100\n",
    "\n",
    "    ax1.scatter(\n",
    "        umap_coords[fg_mask, 0],\n",
    "        umap_coords[fg_mask, 1],\n",
    "        c=colors[i],\n",
    "        s=2,\n",
    "        alpha=0.8,\n",
    "        label=f\"{gene} (thr: {threshold_val:.2f})\",\n",
    "    )\n",
    "\n",
    "ax1.legend(loc=\"upper right\", fontsize=10)\n",
    "title_text = f\"UMAP (Top {(1-threshold_percentile)*100:.0f}% cells selected)\"\n",
    "ax1.set_title(title_text, fontsize=14, pad=15)\n",
    "ax1.set_xlabel(\"UMAP1\", fontsize=14)\n",
    "ax1.set_ylabel(\"UMAP2\", fontsize=14)\n",
    "ax1.tick_params(labelsize=12)\n",
    "ax1.set_aspect(\"equal\")\n",
    "\n",
    "theta = np.asarray(scanning_range)\n",
    "n = len(fg_curves[0])\n",
    "\n",
    "if theta.size == n + 1 and np.isclose((theta[-1] - theta[0]) % (2 * np.pi), 0.0):\n",
    "    theta = theta[:-1]\n",
    "elif theta.size == 2:\n",
    "    start, end = theta\n",
    "    theta = np.linspace(start, end, n, endpoint=False)\n",
    "elif theta.size != n:\n",
    "    raise ValueError(f\"scanning_range length {theta.size} but fg_curve length {n}\")\n",
    "\n",
    "theta_closed = np.concatenate([theta, [theta[0]]])\n",
    "bg_closed = np.concatenate([bg_curve, [bg_curve[0]]])\n",
    "\n",
    "ax2.plot(theta_closed, bg_closed, \":\", c=\"darkgray\", label=\"Background\", linewidth=1)\n",
    "\n",
    "for i, gene in enumerate(genes):\n",
    "    fg_curve = fg_curves[i]\n",
    "    exp_curve = exp_curves[i]\n",
    "\n",
    "    fg_closed = np.concatenate([fg_curve, [fg_curve[0]]])\n",
    "    exp_closed = np.concatenate([exp_curve, [exp_curve[0]]])\n",
    "\n",
    "    ax2.plot(\n",
    "        theta_closed,\n",
    "        fg_closed,\n",
    "        c=colors[i],\n",
    "        alpha=0.8,\n",
    "        label=f\"{gene} (observed)\",\n",
    "        linewidth=2,\n",
    "        linestyle=\"-\",\n",
    "    )\n",
    "\n",
    "    ax2.plot(\n",
    "        theta_closed,\n",
    "        exp_closed,\n",
    "        c=colors[i],\n",
    "        alpha=0.6,\n",
    "        label=f\"{gene} (expected)\",\n",
    "        linewidth=1.5,\n",
    "        linestyle=\"--\",\n",
    "    )\n",
    "\n",
    "ax2.set_title(f\"RSP (Absolute Mode)\", fontsize=14, pad=20)\n",
    "ax2.legend(loc=\"lower right\", bbox_to_anchor=(1.1, -0.22), fontsize=10)\n",
    "ax2.tick_params(labelsize=12)\n",
    "\n",
    "plt.tight_layout()"
   ]
  },
  {
   "cell_type": "markdown",
   "id": "6f327744",
   "metadata": {},
   "source": [
    "## Interpretation\n",
    "\n",
    "The visualization above shows:\n",
    "\n",
    "1. **Left panel (UMAP)**: The spatial distribution of cells expressing each gene above the percentile threshold\n",
    "   - Gray dots: Background cells (low expression)\n",
    "   - Colored dots: Cells with high expression for each gene\n",
    "   - Legend shows the actual threshold value for each gene\n",
    "2. **Right panel (RSP - Absolute Mode)**: The radar scanning plot showing angular enrichment patterns\n",
    "   - **Solid lines**: Observed spatial enrichment for each gene\n",
    "   - **Dashed lines**: Expected enrichment under the local background model\n",
    "   - **Dotted gray line**: Background reference curve\n",
    "   - Values represent absolute spatial clustering strength\n",
    "\n",
    "### RSP Curve Interpretation\n",
    "\n",
    "- **Observed > Expected**: Gene shows stronger spatial clustering than expected\n",
    "- **Observed < Expected**: Gene shows weaker spatial clustering than expected\n",
    "- **Observed ≈ Expected**: Gene follows expected spatial distribution patterns\n",
    "- **Peak directions**: Indicate preferred spatial orientations for gene expression\n"
   ]
  }
 ],
 "metadata": {
  "kernelspec": {
   "display_name": ".venv",
   "language": "python",
   "name": "python3"
  },
  "language_info": {
   "codemirror_mode": {
    "name": "ipython",
    "version": 3
   },
   "file_extension": ".py",
   "mimetype": "text/x-python",
   "name": "python",
   "nbconvert_exporter": "python",
   "pygments_lexer": "ipython3",
   "version": "3.10.9"
  }
 },
 "nbformat": 4,
 "nbformat_minor": 5
}
